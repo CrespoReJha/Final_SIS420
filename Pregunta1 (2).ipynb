{
  "cells": [
    {
      "cell_type": "markdown",
      "metadata": {
        "id": "UfVg51ES7Aqp"
      },
      "source": [
        "[![Open In Colab](https://colab.research.google.com/assets/colab-badge.svg)](https://colab.research.google.com/github/juansensio/blog/blob/master/096_ml_unsupervised/096_ml_unsupervised.ipynb)"
      ]
    },
    {
      "cell_type": "markdown",
      "source": [
        "#Final - Pregunta 1\n",
        "##Nombre: Jhamil Crespo Rejas\n",
        "##Carrera: Ingenieria en Ciencias de la Computacion\n"
      ],
      "metadata": {
        "id": "r9jIV50zmJ5R"
      }
    },
    {
      "cell_type": "markdown",
      "source": [
        "#Aprendizaje No Supervizado"
      ],
      "metadata": {
        "id": "jiIMLPndsdaO"
      }
    },
    {
      "cell_type": "markdown",
      "source": [
        "##Importacion de Librerias"
      ],
      "metadata": {
        "id": "3fbUGKb6m2pI"
      }
    },
    {
      "cell_type": "code",
      "execution_count": 1,
      "metadata": {
        "colab": {
          "base_uri": "https://localhost:8080/"
        },
        "id": "Ir_PcbkHeYmL",
        "outputId": "f13c95ee-8837-41bf-c925-9e7b20411917"
      },
      "outputs": [
        {
          "output_type": "stream",
          "name": "stdout",
          "text": [
            "Drive already mounted at /content/gdrive; to attempt to forcibly remount, call drive.mount(\"/content/gdrive\", force_remount=True).\n"
          ]
        }
      ],
      "source": [
        "from google.colab import drive\n",
        "drive.mount(\"/content/gdrive\")"
      ]
    },
    {
      "cell_type": "code",
      "source": [
        "import os # modulo para interactuar con el sistema operativo (lextura y escritura de archivos)\n",
        "import numpy as np #Cálculo científico y vectorial para python\n",
        "import pandas as pd #para la manipulacion y analisis de datos\n",
        "from sklearn.model_selection import train_test_split # para dividir conjuntos de datos en entrenamiento y prueba\n",
        "from sklearn.preprocessing import OrdinalEncoder #para codificar variables categoricas como numeros enteros\n",
        "import matplotlib.pyplot as plt #para la creacion de graficos y visualizaciones\n",
        "from sklearn.cluster import KMeans #para realizar el clustering para el aprendizaje no supervisado\n",
        "from sklearn.metrics import silhouette_score\n",
        "ordinal_encoder = OrdinalEncoder()"
      ],
      "metadata": {
        "id": "tJ-n4nlBe2sM"
      },
      "execution_count": 3,
      "outputs": []
    },
    {
      "cell_type": "markdown",
      "source": [
        "\n",
        "##Preprocesamiento del Dataset"
      ],
      "metadata": {
        "id": "AnDhSaHrnC9X"
      }
    },
    {
      "cell_type": "code",
      "source": [
        "#Lectura del dataset\n",
        "url = \"/content/gdrive/MyDrive/Final - IA/Pregunta 1/dataset_9.csv\"\n",
        "dataframe = pd.read_csv(url)\n",
        "print(dataframe)"
      ],
      "metadata": {
        "colab": {
          "base_uri": "https://localhost:8080/"
        },
        "id": "SyJoMRAEfEOs",
        "outputId": "ad815826-bc9e-4ae5-9a25-81766e1864db"
      },
      "execution_count": 4,
      "outputs": [
        {
          "output_type": "stream",
          "name": "stdout",
          "text": [
            "         0    1    2    3    4    5    6    7    8    9  ...  3062  3063  \\\n",
            "0      224   18  185  224   18  185  224   18  185  224  ...   255   255   \n",
            "1       23   29  127   23   29  127   23   29  127   23  ...   255   255   \n",
            "2      177   52   87  177   52   87  177   52   87  177  ...   255   255   \n",
            "3      255  255  255  255  255  255  255  255  255  255  ...   255   255   \n",
            "4      255  255  255  255  255  255  255  255  255  255  ...   255   255   \n",
            "...    ...  ...  ...  ...  ...  ...  ...  ...  ...  ...  ...   ...   ...   \n",
            "49995   14  139    1   14  139    1   14  139    1   14  ...   255   255   \n",
            "49996  255  255  255  255  255  255  255  255  255  255  ...   255   255   \n",
            "49997   96   95  192   96   95  192   96   95  192   96  ...   255   255   \n",
            "49998    3    7   55    3    7   55    3    7   55    3  ...   255   255   \n",
            "49999  105   24  157  105   24  157  105   24  157  105  ...   255   255   \n",
            "\n",
            "       3064  3065  3066  3067  3068  3069  3070  3071  \n",
            "0       255   255   255   255   255   255   255   255  \n",
            "1       255   255   255   255   255   255   255   255  \n",
            "2       255   255   255   255   255   255   255   255  \n",
            "3       255   255   255   255   255   255   255   255  \n",
            "4       255   255   255   255   255   255   255   255  \n",
            "...     ...   ...   ...   ...   ...   ...   ...   ...  \n",
            "49995   255   255   255   255   255   255   255   255  \n",
            "49996   255   255   255   255   255   255   255   255  \n",
            "49997   255   255   255   255   255   255   255   255  \n",
            "49998   255   255   255   255   255   255   255   255  \n",
            "49999   255   255   255   255   255   255   255   255  \n",
            "\n",
            "[50000 rows x 3072 columns]\n"
          ]
        }
      ]
    },
    {
      "cell_type": "code",
      "source": [
        "#eliminamos las filas con valores nulos\n",
        "dataframe.dropna(inplace=True)\n",
        "print(dataframe.isnull().sum())\n",
        "\n",
        "dataframe.describe()"
      ],
      "metadata": {
        "colab": {
          "base_uri": "https://localhost:8080/",
          "height": 567
        },
        "id": "BwoMfjp6-bJu",
        "outputId": "a3e76a1f-c4ae-4fe5-cf20-0f3d0c3757e1"
      },
      "execution_count": 5,
      "outputs": [
        {
          "output_type": "stream",
          "name": "stdout",
          "text": [
            "0       0\n",
            "1       0\n",
            "2       0\n",
            "3       0\n",
            "4       0\n",
            "       ..\n",
            "3067    0\n",
            "3068    0\n",
            "3069    0\n",
            "3070    0\n",
            "3071    0\n",
            "Length: 3072, dtype: int64\n"
          ]
        },
        {
          "output_type": "execute_result",
          "data": {
            "text/plain": [
              "                  0             1             2             3             4  \\\n",
              "count  50000.000000  50000.000000  50000.000000  50000.000000  50000.000000   \n",
              "mean     175.702660    175.596080    175.313620    176.208600    176.136500   \n",
              "std       85.077589     84.884936     84.927898     85.163852     84.902141   \n",
              "min        0.000000      0.000000      0.000000      0.000000      0.000000   \n",
              "25%      103.000000    103.000000    102.000000    103.000000    103.000000   \n",
              "50%      206.000000    205.000000    204.000000    207.000000    206.000000   \n",
              "75%      255.000000    255.000000    255.000000    255.000000    255.000000   \n",
              "max      255.000000    255.000000    255.000000    255.000000    255.000000   \n",
              "\n",
              "                  5             6             7             8             9  \\\n",
              "count  50000.000000  50000.000000  50000.000000  50000.000000  50000.000000   \n",
              "mean     175.918720    178.864040    178.583100    178.498000    183.829400   \n",
              "std       84.879278     84.852085     84.717465     84.628427     84.162078   \n",
              "min        0.000000      0.000000      0.000000      0.000000      0.000000   \n",
              "25%      103.000000    107.000000    107.000000    106.000000    114.000000   \n",
              "50%      206.000000    214.000000    213.000000    213.000000    229.000000   \n",
              "75%      255.000000    255.000000    255.000000    255.000000    255.000000   \n",
              "max      255.000000    255.000000    255.000000    255.000000    255.000000   \n",
              "\n",
              "       ...          3062     3063     3064     3065     3066     3067  \\\n",
              "count  ...  50000.000000  50000.0  50000.0  50000.0  50000.0  50000.0   \n",
              "mean   ...    254.989960    255.0    255.0    255.0    255.0    255.0   \n",
              "std    ...      1.314372      0.0      0.0      0.0      0.0      0.0   \n",
              "min    ...     53.000000    255.0    255.0    255.0    255.0    255.0   \n",
              "25%    ...    255.000000    255.0    255.0    255.0    255.0    255.0   \n",
              "50%    ...    255.000000    255.0    255.0    255.0    255.0    255.0   \n",
              "75%    ...    255.000000    255.0    255.0    255.0    255.0    255.0   \n",
              "max    ...    255.000000    255.0    255.0    255.0    255.0    255.0   \n",
              "\n",
              "          3068     3069     3070     3071  \n",
              "count  50000.0  50000.0  50000.0  50000.0  \n",
              "mean     255.0    255.0    255.0    255.0  \n",
              "std        0.0      0.0      0.0      0.0  \n",
              "min      255.0    255.0    255.0    255.0  \n",
              "25%      255.0    255.0    255.0    255.0  \n",
              "50%      255.0    255.0    255.0    255.0  \n",
              "75%      255.0    255.0    255.0    255.0  \n",
              "max      255.0    255.0    255.0    255.0  \n",
              "\n",
              "[8 rows x 3072 columns]"
            ],
            "text/html": [
              "\n",
              "  <div id=\"df-f3c26ce8-e476-469d-8c26-9414c27240ad\" class=\"colab-df-container\">\n",
              "    <div>\n",
              "<style scoped>\n",
              "    .dataframe tbody tr th:only-of-type {\n",
              "        vertical-align: middle;\n",
              "    }\n",
              "\n",
              "    .dataframe tbody tr th {\n",
              "        vertical-align: top;\n",
              "    }\n",
              "\n",
              "    .dataframe thead th {\n",
              "        text-align: right;\n",
              "    }\n",
              "</style>\n",
              "<table border=\"1\" class=\"dataframe\">\n",
              "  <thead>\n",
              "    <tr style=\"text-align: right;\">\n",
              "      <th></th>\n",
              "      <th>0</th>\n",
              "      <th>1</th>\n",
              "      <th>2</th>\n",
              "      <th>3</th>\n",
              "      <th>4</th>\n",
              "      <th>5</th>\n",
              "      <th>6</th>\n",
              "      <th>7</th>\n",
              "      <th>8</th>\n",
              "      <th>9</th>\n",
              "      <th>...</th>\n",
              "      <th>3062</th>\n",
              "      <th>3063</th>\n",
              "      <th>3064</th>\n",
              "      <th>3065</th>\n",
              "      <th>3066</th>\n",
              "      <th>3067</th>\n",
              "      <th>3068</th>\n",
              "      <th>3069</th>\n",
              "      <th>3070</th>\n",
              "      <th>3071</th>\n",
              "    </tr>\n",
              "  </thead>\n",
              "  <tbody>\n",
              "    <tr>\n",
              "      <th>count</th>\n",
              "      <td>50000.000000</td>\n",
              "      <td>50000.000000</td>\n",
              "      <td>50000.000000</td>\n",
              "      <td>50000.000000</td>\n",
              "      <td>50000.000000</td>\n",
              "      <td>50000.000000</td>\n",
              "      <td>50000.000000</td>\n",
              "      <td>50000.000000</td>\n",
              "      <td>50000.000000</td>\n",
              "      <td>50000.000000</td>\n",
              "      <td>...</td>\n",
              "      <td>50000.000000</td>\n",
              "      <td>50000.0</td>\n",
              "      <td>50000.0</td>\n",
              "      <td>50000.0</td>\n",
              "      <td>50000.0</td>\n",
              "      <td>50000.0</td>\n",
              "      <td>50000.0</td>\n",
              "      <td>50000.0</td>\n",
              "      <td>50000.0</td>\n",
              "      <td>50000.0</td>\n",
              "    </tr>\n",
              "    <tr>\n",
              "      <th>mean</th>\n",
              "      <td>175.702660</td>\n",
              "      <td>175.596080</td>\n",
              "      <td>175.313620</td>\n",
              "      <td>176.208600</td>\n",
              "      <td>176.136500</td>\n",
              "      <td>175.918720</td>\n",
              "      <td>178.864040</td>\n",
              "      <td>178.583100</td>\n",
              "      <td>178.498000</td>\n",
              "      <td>183.829400</td>\n",
              "      <td>...</td>\n",
              "      <td>254.989960</td>\n",
              "      <td>255.0</td>\n",
              "      <td>255.0</td>\n",
              "      <td>255.0</td>\n",
              "      <td>255.0</td>\n",
              "      <td>255.0</td>\n",
              "      <td>255.0</td>\n",
              "      <td>255.0</td>\n",
              "      <td>255.0</td>\n",
              "      <td>255.0</td>\n",
              "    </tr>\n",
              "    <tr>\n",
              "      <th>std</th>\n",
              "      <td>85.077589</td>\n",
              "      <td>84.884936</td>\n",
              "      <td>84.927898</td>\n",
              "      <td>85.163852</td>\n",
              "      <td>84.902141</td>\n",
              "      <td>84.879278</td>\n",
              "      <td>84.852085</td>\n",
              "      <td>84.717465</td>\n",
              "      <td>84.628427</td>\n",
              "      <td>84.162078</td>\n",
              "      <td>...</td>\n",
              "      <td>1.314372</td>\n",
              "      <td>0.0</td>\n",
              "      <td>0.0</td>\n",
              "      <td>0.0</td>\n",
              "      <td>0.0</td>\n",
              "      <td>0.0</td>\n",
              "      <td>0.0</td>\n",
              "      <td>0.0</td>\n",
              "      <td>0.0</td>\n",
              "      <td>0.0</td>\n",
              "    </tr>\n",
              "    <tr>\n",
              "      <th>min</th>\n",
              "      <td>0.000000</td>\n",
              "      <td>0.000000</td>\n",
              "      <td>0.000000</td>\n",
              "      <td>0.000000</td>\n",
              "      <td>0.000000</td>\n",
              "      <td>0.000000</td>\n",
              "      <td>0.000000</td>\n",
              "      <td>0.000000</td>\n",
              "      <td>0.000000</td>\n",
              "      <td>0.000000</td>\n",
              "      <td>...</td>\n",
              "      <td>53.000000</td>\n",
              "      <td>255.0</td>\n",
              "      <td>255.0</td>\n",
              "      <td>255.0</td>\n",
              "      <td>255.0</td>\n",
              "      <td>255.0</td>\n",
              "      <td>255.0</td>\n",
              "      <td>255.0</td>\n",
              "      <td>255.0</td>\n",
              "      <td>255.0</td>\n",
              "    </tr>\n",
              "    <tr>\n",
              "      <th>25%</th>\n",
              "      <td>103.000000</td>\n",
              "      <td>103.000000</td>\n",
              "      <td>102.000000</td>\n",
              "      <td>103.000000</td>\n",
              "      <td>103.000000</td>\n",
              "      <td>103.000000</td>\n",
              "      <td>107.000000</td>\n",
              "      <td>107.000000</td>\n",
              "      <td>106.000000</td>\n",
              "      <td>114.000000</td>\n",
              "      <td>...</td>\n",
              "      <td>255.000000</td>\n",
              "      <td>255.0</td>\n",
              "      <td>255.0</td>\n",
              "      <td>255.0</td>\n",
              "      <td>255.0</td>\n",
              "      <td>255.0</td>\n",
              "      <td>255.0</td>\n",
              "      <td>255.0</td>\n",
              "      <td>255.0</td>\n",
              "      <td>255.0</td>\n",
              "    </tr>\n",
              "    <tr>\n",
              "      <th>50%</th>\n",
              "      <td>206.000000</td>\n",
              "      <td>205.000000</td>\n",
              "      <td>204.000000</td>\n",
              "      <td>207.000000</td>\n",
              "      <td>206.000000</td>\n",
              "      <td>206.000000</td>\n",
              "      <td>214.000000</td>\n",
              "      <td>213.000000</td>\n",
              "      <td>213.000000</td>\n",
              "      <td>229.000000</td>\n",
              "      <td>...</td>\n",
              "      <td>255.000000</td>\n",
              "      <td>255.0</td>\n",
              "      <td>255.0</td>\n",
              "      <td>255.0</td>\n",
              "      <td>255.0</td>\n",
              "      <td>255.0</td>\n",
              "      <td>255.0</td>\n",
              "      <td>255.0</td>\n",
              "      <td>255.0</td>\n",
              "      <td>255.0</td>\n",
              "    </tr>\n",
              "    <tr>\n",
              "      <th>75%</th>\n",
              "      <td>255.000000</td>\n",
              "      <td>255.000000</td>\n",
              "      <td>255.000000</td>\n",
              "      <td>255.000000</td>\n",
              "      <td>255.000000</td>\n",
              "      <td>255.000000</td>\n",
              "      <td>255.000000</td>\n",
              "      <td>255.000000</td>\n",
              "      <td>255.000000</td>\n",
              "      <td>255.000000</td>\n",
              "      <td>...</td>\n",
              "      <td>255.000000</td>\n",
              "      <td>255.0</td>\n",
              "      <td>255.0</td>\n",
              "      <td>255.0</td>\n",
              "      <td>255.0</td>\n",
              "      <td>255.0</td>\n",
              "      <td>255.0</td>\n",
              "      <td>255.0</td>\n",
              "      <td>255.0</td>\n",
              "      <td>255.0</td>\n",
              "    </tr>\n",
              "    <tr>\n",
              "      <th>max</th>\n",
              "      <td>255.000000</td>\n",
              "      <td>255.000000</td>\n",
              "      <td>255.000000</td>\n",
              "      <td>255.000000</td>\n",
              "      <td>255.000000</td>\n",
              "      <td>255.000000</td>\n",
              "      <td>255.000000</td>\n",
              "      <td>255.000000</td>\n",
              "      <td>255.000000</td>\n",
              "      <td>255.000000</td>\n",
              "      <td>...</td>\n",
              "      <td>255.000000</td>\n",
              "      <td>255.0</td>\n",
              "      <td>255.0</td>\n",
              "      <td>255.0</td>\n",
              "      <td>255.0</td>\n",
              "      <td>255.0</td>\n",
              "      <td>255.0</td>\n",
              "      <td>255.0</td>\n",
              "      <td>255.0</td>\n",
              "      <td>255.0</td>\n",
              "    </tr>\n",
              "  </tbody>\n",
              "</table>\n",
              "<p>8 rows × 3072 columns</p>\n",
              "</div>\n",
              "    <div class=\"colab-df-buttons\">\n",
              "\n",
              "  <div class=\"colab-df-container\">\n",
              "    <button class=\"colab-df-convert\" onclick=\"convertToInteractive('df-f3c26ce8-e476-469d-8c26-9414c27240ad')\"\n",
              "            title=\"Convert this dataframe to an interactive table.\"\n",
              "            style=\"display:none;\">\n",
              "\n",
              "  <svg xmlns=\"http://www.w3.org/2000/svg\" height=\"24px\" viewBox=\"0 -960 960 960\">\n",
              "    <path d=\"M120-120v-720h720v720H120Zm60-500h600v-160H180v160Zm220 220h160v-160H400v160Zm0 220h160v-160H400v160ZM180-400h160v-160H180v160Zm440 0h160v-160H620v160ZM180-180h160v-160H180v160Zm440 0h160v-160H620v160Z\"/>\n",
              "  </svg>\n",
              "    </button>\n",
              "\n",
              "  <style>\n",
              "    .colab-df-container {\n",
              "      display:flex;\n",
              "      gap: 12px;\n",
              "    }\n",
              "\n",
              "    .colab-df-convert {\n",
              "      background-color: #E8F0FE;\n",
              "      border: none;\n",
              "      border-radius: 50%;\n",
              "      cursor: pointer;\n",
              "      display: none;\n",
              "      fill: #1967D2;\n",
              "      height: 32px;\n",
              "      padding: 0 0 0 0;\n",
              "      width: 32px;\n",
              "    }\n",
              "\n",
              "    .colab-df-convert:hover {\n",
              "      background-color: #E2EBFA;\n",
              "      box-shadow: 0px 1px 2px rgba(60, 64, 67, 0.3), 0px 1px 3px 1px rgba(60, 64, 67, 0.15);\n",
              "      fill: #174EA6;\n",
              "    }\n",
              "\n",
              "    .colab-df-buttons div {\n",
              "      margin-bottom: 4px;\n",
              "    }\n",
              "\n",
              "    [theme=dark] .colab-df-convert {\n",
              "      background-color: #3B4455;\n",
              "      fill: #D2E3FC;\n",
              "    }\n",
              "\n",
              "    [theme=dark] .colab-df-convert:hover {\n",
              "      background-color: #434B5C;\n",
              "      box-shadow: 0px 1px 3px 1px rgba(0, 0, 0, 0.15);\n",
              "      filter: drop-shadow(0px 1px 2px rgba(0, 0, 0, 0.3));\n",
              "      fill: #FFFFFF;\n",
              "    }\n",
              "  </style>\n",
              "\n",
              "    <script>\n",
              "      const buttonEl =\n",
              "        document.querySelector('#df-f3c26ce8-e476-469d-8c26-9414c27240ad button.colab-df-convert');\n",
              "      buttonEl.style.display =\n",
              "        google.colab.kernel.accessAllowed ? 'block' : 'none';\n",
              "\n",
              "      async function convertToInteractive(key) {\n",
              "        const element = document.querySelector('#df-f3c26ce8-e476-469d-8c26-9414c27240ad');\n",
              "        const dataTable =\n",
              "          await google.colab.kernel.invokeFunction('convertToInteractive',\n",
              "                                                    [key], {});\n",
              "        if (!dataTable) return;\n",
              "\n",
              "        const docLinkHtml = 'Like what you see? Visit the ' +\n",
              "          '<a target=\"_blank\" href=https://colab.research.google.com/notebooks/data_table.ipynb>data table notebook</a>'\n",
              "          + ' to learn more about interactive tables.';\n",
              "        element.innerHTML = '';\n",
              "        dataTable['output_type'] = 'display_data';\n",
              "        await google.colab.output.renderOutput(dataTable, element);\n",
              "        const docLink = document.createElement('div');\n",
              "        docLink.innerHTML = docLinkHtml;\n",
              "        element.appendChild(docLink);\n",
              "      }\n",
              "    </script>\n",
              "  </div>\n",
              "\n",
              "\n",
              "<div id=\"df-0ae5c540-1b9a-4204-9cfb-ce71f9c7b679\">\n",
              "  <button class=\"colab-df-quickchart\" onclick=\"quickchart('df-0ae5c540-1b9a-4204-9cfb-ce71f9c7b679')\"\n",
              "            title=\"Suggest charts\"\n",
              "            style=\"display:none;\">\n",
              "\n",
              "<svg xmlns=\"http://www.w3.org/2000/svg\" height=\"24px\"viewBox=\"0 0 24 24\"\n",
              "     width=\"24px\">\n",
              "    <g>\n",
              "        <path d=\"M19 3H5c-1.1 0-2 .9-2 2v14c0 1.1.9 2 2 2h14c1.1 0 2-.9 2-2V5c0-1.1-.9-2-2-2zM9 17H7v-7h2v7zm4 0h-2V7h2v10zm4 0h-2v-4h2v4z\"/>\n",
              "    </g>\n",
              "</svg>\n",
              "  </button>\n",
              "\n",
              "<style>\n",
              "  .colab-df-quickchart {\n",
              "      --bg-color: #E8F0FE;\n",
              "      --fill-color: #1967D2;\n",
              "      --hover-bg-color: #E2EBFA;\n",
              "      --hover-fill-color: #174EA6;\n",
              "      --disabled-fill-color: #AAA;\n",
              "      --disabled-bg-color: #DDD;\n",
              "  }\n",
              "\n",
              "  [theme=dark] .colab-df-quickchart {\n",
              "      --bg-color: #3B4455;\n",
              "      --fill-color: #D2E3FC;\n",
              "      --hover-bg-color: #434B5C;\n",
              "      --hover-fill-color: #FFFFFF;\n",
              "      --disabled-bg-color: #3B4455;\n",
              "      --disabled-fill-color: #666;\n",
              "  }\n",
              "\n",
              "  .colab-df-quickchart {\n",
              "    background-color: var(--bg-color);\n",
              "    border: none;\n",
              "    border-radius: 50%;\n",
              "    cursor: pointer;\n",
              "    display: none;\n",
              "    fill: var(--fill-color);\n",
              "    height: 32px;\n",
              "    padding: 0;\n",
              "    width: 32px;\n",
              "  }\n",
              "\n",
              "  .colab-df-quickchart:hover {\n",
              "    background-color: var(--hover-bg-color);\n",
              "    box-shadow: 0 1px 2px rgba(60, 64, 67, 0.3), 0 1px 3px 1px rgba(60, 64, 67, 0.15);\n",
              "    fill: var(--button-hover-fill-color);\n",
              "  }\n",
              "\n",
              "  .colab-df-quickchart-complete:disabled,\n",
              "  .colab-df-quickchart-complete:disabled:hover {\n",
              "    background-color: var(--disabled-bg-color);\n",
              "    fill: var(--disabled-fill-color);\n",
              "    box-shadow: none;\n",
              "  }\n",
              "\n",
              "  .colab-df-spinner {\n",
              "    border: 2px solid var(--fill-color);\n",
              "    border-color: transparent;\n",
              "    border-bottom-color: var(--fill-color);\n",
              "    animation:\n",
              "      spin 1s steps(1) infinite;\n",
              "  }\n",
              "\n",
              "  @keyframes spin {\n",
              "    0% {\n",
              "      border-color: transparent;\n",
              "      border-bottom-color: var(--fill-color);\n",
              "      border-left-color: var(--fill-color);\n",
              "    }\n",
              "    20% {\n",
              "      border-color: transparent;\n",
              "      border-left-color: var(--fill-color);\n",
              "      border-top-color: var(--fill-color);\n",
              "    }\n",
              "    30% {\n",
              "      border-color: transparent;\n",
              "      border-left-color: var(--fill-color);\n",
              "      border-top-color: var(--fill-color);\n",
              "      border-right-color: var(--fill-color);\n",
              "    }\n",
              "    40% {\n",
              "      border-color: transparent;\n",
              "      border-right-color: var(--fill-color);\n",
              "      border-top-color: var(--fill-color);\n",
              "    }\n",
              "    60% {\n",
              "      border-color: transparent;\n",
              "      border-right-color: var(--fill-color);\n",
              "    }\n",
              "    80% {\n",
              "      border-color: transparent;\n",
              "      border-right-color: var(--fill-color);\n",
              "      border-bottom-color: var(--fill-color);\n",
              "    }\n",
              "    90% {\n",
              "      border-color: transparent;\n",
              "      border-bottom-color: var(--fill-color);\n",
              "    }\n",
              "  }\n",
              "</style>\n",
              "\n",
              "  <script>\n",
              "    async function quickchart(key) {\n",
              "      const quickchartButtonEl =\n",
              "        document.querySelector('#' + key + ' button');\n",
              "      quickchartButtonEl.disabled = true;  // To prevent multiple clicks.\n",
              "      quickchartButtonEl.classList.add('colab-df-spinner');\n",
              "      try {\n",
              "        const charts = await google.colab.kernel.invokeFunction(\n",
              "            'suggestCharts', [key], {});\n",
              "      } catch (error) {\n",
              "        console.error('Error during call to suggestCharts:', error);\n",
              "      }\n",
              "      quickchartButtonEl.classList.remove('colab-df-spinner');\n",
              "      quickchartButtonEl.classList.add('colab-df-quickchart-complete');\n",
              "    }\n",
              "    (() => {\n",
              "      let quickchartButtonEl =\n",
              "        document.querySelector('#df-0ae5c540-1b9a-4204-9cfb-ce71f9c7b679 button');\n",
              "      quickchartButtonEl.style.display =\n",
              "        google.colab.kernel.accessAllowed ? 'block' : 'none';\n",
              "    })();\n",
              "  </script>\n",
              "</div>\n",
              "\n",
              "    </div>\n",
              "  </div>\n"
            ],
            "application/vnd.google.colaboratory.intrinsic+json": {
              "type": "dataframe"
            }
          },
          "metadata": {},
          "execution_count": 5
        }
      ]
    },
    {
      "cell_type": "code",
      "source": [
        "# Dividimos los datos en conjuntos para entrenamiento y para prueba\n",
        "X_train, X_test = train_test_split(dataframe, test_size=0.2, random_state=1)"
      ],
      "metadata": {
        "id": "8N0eIrTMABAb"
      },
      "execution_count": 6,
      "outputs": []
    },
    {
      "cell_type": "code",
      "source": [
        "print(len(X_train))\n",
        "\n",
        "print(len(X_test))\n"
      ],
      "metadata": {
        "colab": {
          "base_uri": "https://localhost:8080/"
        },
        "id": "RlNce23NALnf",
        "outputId": "72f0d9e3-e094-4edf-81b8-051dbee83d12"
      },
      "execution_count": 7,
      "outputs": [
        {
          "output_type": "stream",
          "name": "stdout",
          "text": [
            "40000\n",
            "10000\n"
          ]
        }
      ]
    },
    {
      "cell_type": "code",
      "source": [
        "X_Np = X_train.values[:100]\n",
        "print(X_Np)"
      ],
      "metadata": {
        "colab": {
          "base_uri": "https://localhost:8080/"
        },
        "id": "uBisjY6oA9-G",
        "outputId": "6ea52cbe-01e5-47c5-fe93-a1989b97371b"
      },
      "execution_count": 8,
      "outputs": [
        {
          "output_type": "stream",
          "name": "stdout",
          "text": [
            "[[255 255 255 ... 255 255 255]\n",
            " [255 255 255 ... 255 255 255]\n",
            " [181  10  20 ... 255 255 255]\n",
            " ...\n",
            " [255 255 255 ... 255 255 255]\n",
            " [197 222 238 ... 255 255 255]\n",
            " [218  22  21 ... 255 255 255]]\n"
          ]
        }
      ]
    },
    {
      "cell_type": "code",
      "source": [
        "import matplotlib.pyplot as plt\n",
        "\n",
        "plt.figure(figsize=(10, 20))  # Increased figure height to accommodate more plots\n",
        "for index, X_representative_digit in enumerate(X_Np[:100]): # Iterate through first 100 elements\n",
        "  plt.subplot(10, 10, index+1)  # Adjusted subplot layout to 10 rows and 10 columns\n",
        "  plt.imshow(X_representative_digit.reshape(32,32,3), cmap=\"binary\")\n",
        "  plt.axis('off')\n",
        "plt.show()"
      ],
      "metadata": {
        "colab": {
          "base_uri": "https://localhost:8080/",
          "height": 1000
        },
        "id": "bgD4VEZVBQPA",
        "outputId": "5b5c29c6-1abc-4b24-c9a2-2314ec9816bf"
      },
      "execution_count": 9,
      "outputs": [
        {
          "output_type": "display_data",
          "data": {
            "text/plain": [
              "<Figure size 1000x2000 with 100 Axes>"
            ],
            "image/png": "[encoded data removed]"
          },
          "metadata": {}
        }
      ]
    },
    {
      "cell_type": "markdown",
      "source": [
        "##Clustering"
      ],
      "metadata": {
        "id": "QXyKBC_3naDf"
      }
    },
    {
      "cell_type": "markdown",
      "source": [
        "###Analisis para escoger la mejor cantidad de grupos para realizar el clustering"
      ],
      "metadata": {
        "id": "MwBrQ_uK_wA8"
      }
    },
    {
      "cell_type": "markdown",
      "source": [
        "Creamos 9 modelos K-means con diferentes cantidades de clusters (1 - 9) para encontrar el numero de clusters adecuado.\n",
        "\n",
        "Este analisis lo hacemos en base a el coeficiente de silueta de los modelos que es un indicativo de cuan bien agrupados estan los datos. Un valor cercano a $1$ indica que la muestra está bien metida en su grupo y lejos de los demás mientras que un valor cercano a $0$ indica que la muestra se encuentra cerca de una frontera de decisión y un valor cercano a $-1$ indica que la muestra está en el grupo incorrecto.\n",
        "\n",
        "Para el primer grafico utilizamos el coeficiente de silueta de todo el modelo"
      ],
      "metadata": {
        "id": "7E7G_R6AAAiT"
      }
    },
    {
      "cell_type": "code",
      "source": [
        "X_Np = X_train.values[0:10000]\n",
        "X_trainNp = X_Np"
      ],
      "metadata": {
        "id": "LeSRALZ5d6sY"
      },
      "execution_count": 10,
      "outputs": []
    },
    {
      "cell_type": "code",
      "source": [
        "from sklearn.cluster import MiniBatchKMeans\n",
        "# Seleccionar una muestra de los datos para reducir el tiempo de computo\n",
        "sample_size = 10000  # Ajusta esto según tus recursos\n",
        "sample_X = X_trainNp[np.random.choice(X_trainNp.shape[0], sample_size, replace=False)]\n",
        "\n",
        "# Crear modelos MiniBatchKMeans\n",
        "kmeans_per_k = [MiniBatchKMeans(n_clusters=k, init=\"random\", n_init=10, random_state=11).fit(sample_X)\n",
        "                for k in range(2, 11)]\n",
        "\n",
        "# Calcular los puntajes de silueta en la muestra de X\n",
        "silhouette_scores = [silhouette_score(sample_X, model.labels_)\n",
        "                     for model in kmeans_per_k]\n",
        "\n",
        "# Graficar los puntajes de silueta\n",
        "plt.figure(figsize=(8, 3))\n",
        "plt.plot(range(2, 11), silhouette_scores, \"bo-\")\n",
        "plt.xlabel(\"$k$\", fontsize=14)\n",
        "plt.ylabel(\"Silhouette score\", fontsize=14)\n",
        "plt.axis([1.8, 10.0, 0.0, 1])\n",
        "plt.show()"
      ],
      "metadata": {
        "colab": {
          "base_uri": "https://localhost:8080/",
          "height": 321
        },
        "id": "1Z5o0nE1nJuG",
        "outputId": "bb030b2e-c90f-4d66-910d-17b882e24faf"
      },
      "execution_count": 11,
      "outputs": [
        {
          "output_type": "display_data",
          "data": {
            "text/plain": [
              "<Figure size 800x300 with 1 Axes>"
            ],
            "image/png": "[encoded data removed]"
          },
          "metadata": {}
        }
      ]
    },
    {
      "cell_type": "markdown",
      "source": [
        "Para el segundo grafico utilizamos el coeficiente de silueta de cada cluster en los modelos, eso nos ayuda a ver que tan equilibrados y estables estan los agrupamientos en los clusters de los modelos."
      ],
      "metadata": {
        "id": "He2GtowhBJZR"
      }
    },
    {
      "cell_type": "code",
      "source": [
        "from sklearn.metrics import silhouette_samples\n",
        "from matplotlib.ticker import FixedLocator, FixedFormatter\n",
        "import matplotlib as mpl\n",
        "\n",
        "# Crear una figura de 11x9 pulgadas\n",
        "plt.figure(figsize=(11, 9))\n",
        "\n",
        "n_rows = 3  # número de filas en la cuadrícula de subgráficos\n",
        "n_cols = 3  # número de columnas en la cuadrícula de subgráficos\n",
        "\n",
        "for k in range(3, 10):  # se itera por los valores de k (numero de clusters)\n",
        "    index = k - 3  # calcula el índice correcto para el subgráfico\n",
        "    plt.subplot(n_rows, n_cols, index + 1)  # crea un subgrafico para cada uno\n",
        "\n",
        "    y_pred = kmeans_per_k[k - 2].labels_  # se obtienen las etiquetas (k-2 porque la lista comienza en k=2)\n",
        "    silhouette_coefficients = silhouette_samples(sample_X, y_pred)  # se calculan los coeficientes de las siluetas para cada muestra\n",
        "\n",
        "    padding = len(sample_X) // 30  # se establece un espacio entre los graficos de silueta de cada cluster\n",
        "    pos = padding\n",
        "    ticks = []  # cada tick representara el centro de un cluster\n",
        "    for i in range(k):\n",
        "        coeffs = silhouette_coefficients[y_pred == i]  # se seleccionan los coeficientes correspondiente al cluster i\n",
        "        coeffs.sort()  # se ordenan los coeficientes\n",
        "\n",
        "        color = mpl.cm.Spectral(i / k)  # se asigna un color a cada cluster\n",
        "        plt.fill_betweenx(np.arange(pos, pos + len(coeffs)), 0, coeffs,\n",
        "                          facecolor=color, edgecolor=color, alpha=0.7)  # se crea un grafico para los coeficientes\n",
        "        ticks.append(pos + len(coeffs) // 2)  # se adiciona la posicion del centro del area de silueta\n",
        "        pos += len(coeffs) + padding  # se actualiza la posicion para el siguiente cluster\n",
        "\n",
        "    plt.gca().yaxis.set_major_locator(FixedLocator(ticks))\n",
        "    plt.gca().yaxis.set_major_formatter(FixedFormatter(range(k)))\n",
        "    if k in (3, 6, 9):\n",
        "        plt.ylabel(\"Cluster\")\n",
        "\n",
        "    if k in (3,4, 5, 6, 7, 8, 9):\n",
        "        plt.gca().set_xticks([-0.1, 0, 0.2, 0.4, 0.6, 0.8, 1])\n",
        "        plt.xlabel(\"Silhouette Coefficient\")\n",
        "    else:\n",
        "        plt.tick_params(labelbottom=False)\n",
        "\n",
        "    plt.axvline(x=silhouette_scores[k - 2], color=\"red\", linestyle=\"--\")  # se dibuja una linea con el valor medio del coeficiente de silueta\n",
        "    plt.title(\"$k={}$\".format(k), fontsize=16)\n",
        "\n",
        "plt.show()\n"
      ],
      "metadata": {
        "id": "Y1qoI_sCtR4P",
        "colab": {
          "base_uri": "https://localhost:8080/",
          "height": 797
        },
        "outputId": "881c1fba-2c93-4b94-86f3-d513bb145f7c"
      },
      "execution_count": 12,
      "outputs": [
        {
          "output_type": "display_data",
          "data": {
            "text/plain": [
              "<Figure size 1100x900 with 7 Axes>"
            ],
            "image/png": "[encoded data removed]"
          },
          "metadata": {}
        }
      ]
    },
    {
      "cell_type": "markdown",
      "source": [
        "Segun el analisis de las graficas, identificamos que el modelo con 7 clusters es el mas adecuado ya es que parece tener mas equilibrado los coeficientes de silueta de sus clusters."
      ],
      "metadata": {
        "id": "nlKmYX0aNL8L"
      }
    },
    {
      "cell_type": "markdown",
      "source": [
        "##Aprendizaje Semi-Supervizado"
      ],
      "metadata": {
        "id": "Tk4YCs-5nkJy"
      }
    },
    {
      "cell_type": "markdown",
      "source": [
        "Para el aprendizaje semi-supervizado primero creamos un modelo de K-means para 100 clusters y ajustamos los datos en base a esos grupos."
      ],
      "metadata": {
        "id": "peE5pAwRCY90"
      }
    },
    {
      "cell_type": "code",
      "source": [
        "from sklearn.cluster import KMeans\n",
        "\n",
        "k = 50 #establece el numero de clusters (grupos)\n",
        "kmeans = KMeans(n_clusters=k, random_state=42) #incializa el modelo\n",
        "X_digits_dist = kmeans.fit_transform(X_train)#calcula las distancias de los datos a todos los centroides"
      ],
      "metadata": {
        "colab": {
          "base_uri": "https://localhost:8080/",
          "height": 1000
        },
        "id": "t0N0xLk91bk7",
        "outputId": "311d457b-9f75-49ae-902b-5f656658294f"
      },
      "execution_count": null,
      "outputs": [
        {
          "output_type": "stream",
          "name": "stderr",
          "text": [
            "/usr/local/lib/python3.10/dist-packages/sklearn/cluster/_kmeans.py:870: FutureWarning: The default value of `n_init` will change from 10 to 'auto' in 1.4. Set the value of `n_init` explicitly to suppress the warning\n",
            "  warnings.warn(\n"
          ]
        },
        {
          "output_type": "error",
          "ename": "KeyboardInterrupt",
          "evalue": "",
          "traceback": [
            "\u001b[0;31m---------------------------------------------------------------------------\u001b[0m",
            "\u001b[0;31mKeyboardInterrupt\u001b[0m                         Traceback (most recent call last)",
            "\u001b[0;32m/usr/local/lib/python3.10/dist-packages/numpy/core/multiarray.py\u001b[0m in \u001b[0;36mwhere\u001b[0;34m(condition, x, y)\u001b[0m\n\u001b[1;32m    344\u001b[0m \u001b[0;34m\u001b[0m\u001b[0m\n\u001b[1;32m    345\u001b[0m \u001b[0;34m\u001b[0m\u001b[0m\n\u001b[0;32m--> 346\u001b[0;31m \u001b[0;34m@\u001b[0m\u001b[0marray_function_from_c_func_and_dispatcher\u001b[0m\u001b[0;34m(\u001b[0m\u001b[0m_multiarray_umath\u001b[0m\u001b[0;34m.\u001b[0m\u001b[0mwhere\u001b[0m\u001b[0;34m)\u001b[0m\u001b[0;34m\u001b[0m\u001b[0;34m\u001b[0m\u001b[0m\n\u001b[0m\u001b[1;32m    347\u001b[0m \u001b[0;32mdef\u001b[0m \u001b[0mwhere\u001b[0m\u001b[0;34m(\u001b[0m\u001b[0mcondition\u001b[0m\u001b[0;34m,\u001b[0m \u001b[0mx\u001b[0m\u001b[0;34m=\u001b[0m\u001b[0;32mNone\u001b[0m\u001b[0;34m,\u001b[0m \u001b[0my\u001b[0m\u001b[0;34m=\u001b[0m\u001b[0;32mNone\u001b[0m\u001b[0;34m)\u001b[0m\u001b[0;34m:\u001b[0m\u001b[0;34m\u001b[0m\u001b[0;34m\u001b[0m\u001b[0m\n\u001b[1;32m    348\u001b[0m     \"\"\"\n",
            "\u001b[0;31mKeyboardInterrupt\u001b[0m: "
          ]
        },
        {
          "output_type": "stream",
          "name": "stderr",
          "text": [
            "Exception ignored in: 'sklearn.cluster._k_means_common._relocate_empty_clusters_dense'\n",
            "Traceback (most recent call last):\n",
            "  File \"/usr/local/lib/python3.10/dist-packages/numpy/core/multiarray.py\", line 346, in where\n",
            "    @array_function_from_c_func_and_dispatcher(_multiarray_umath.where)\n",
            "KeyboardInterrupt: \n"
          ]
        },
        {
          "output_type": "error",
          "ename": "KeyboardInterrupt",
          "evalue": "",
          "traceback": [
            "\u001b[0;31m---------------------------------------------------------------------------\u001b[0m",
            "\u001b[0;31mKeyboardInterrupt\u001b[0m                         Traceback (most recent call last)",
            "\u001b[0;32m/usr/local/lib/python3.10/dist-packages/numpy/core/multiarray.py\u001b[0m in \u001b[0;36mwhere\u001b[0;34m(condition, x, y)\u001b[0m\n\u001b[1;32m    344\u001b[0m \u001b[0;34m\u001b[0m\u001b[0m\n\u001b[1;32m    345\u001b[0m \u001b[0;34m\u001b[0m\u001b[0m\n\u001b[0;32m--> 346\u001b[0;31m \u001b[0;34m@\u001b[0m\u001b[0marray_function_from_c_func_and_dispatcher\u001b[0m\u001b[0;34m(\u001b[0m\u001b[0m_multiarray_umath\u001b[0m\u001b[0;34m.\u001b[0m\u001b[0mwhere\u001b[0m\u001b[0;34m)\u001b[0m\u001b[0;34m\u001b[0m\u001b[0;34m\u001b[0m\u001b[0m\n\u001b[0m\u001b[1;32m    347\u001b[0m \u001b[0;32mdef\u001b[0m \u001b[0mwhere\u001b[0m\u001b[0;34m(\u001b[0m\u001b[0mcondition\u001b[0m\u001b[0;34m,\u001b[0m \u001b[0mx\u001b[0m\u001b[0;34m=\u001b[0m\u001b[0;32mNone\u001b[0m\u001b[0;34m,\u001b[0m \u001b[0my\u001b[0m\u001b[0;34m=\u001b[0m\u001b[0;32mNone\u001b[0m\u001b[0;34m)\u001b[0m\u001b[0;34m:\u001b[0m\u001b[0;34m\u001b[0m\u001b[0;34m\u001b[0m\u001b[0m\n\u001b[1;32m    348\u001b[0m     \"\"\"\n",
            "\u001b[0;31mKeyboardInterrupt\u001b[0m: "
          ]
        },
        {
          "output_type": "stream",
          "name": "stderr",
          "text": [
            "Exception ignored in: 'sklearn.cluster._k_means_common._relocate_empty_clusters_dense'\n",
            "Traceback (most recent call last):\n",
            "  File \"/usr/local/lib/python3.10/dist-packages/numpy/core/multiarray.py\", line 346, in where\n",
            "    @array_function_from_c_func_and_dispatcher(_multiarray_umath.where)\n",
            "KeyboardInterrupt: \n"
          ]
        },
        {
          "output_type": "error",
          "ename": "KeyboardInterrupt",
          "evalue": "",
          "traceback": [
            "\u001b[0;31m---------------------------------------------------------------------------\u001b[0m",
            "\u001b[0;31mKeyboardInterrupt\u001b[0m                         Traceback (most recent call last)",
            "\u001b[0;32m/usr/local/lib/python3.10/dist-packages/numpy/core/multiarray.py\u001b[0m in \u001b[0;36mwhere\u001b[0;34m(condition, x, y)\u001b[0m\n\u001b[1;32m    344\u001b[0m \u001b[0;34m\u001b[0m\u001b[0m\n\u001b[1;32m    345\u001b[0m \u001b[0;34m\u001b[0m\u001b[0m\n\u001b[0;32m--> 346\u001b[0;31m \u001b[0;34m@\u001b[0m\u001b[0marray_function_from_c_func_and_dispatcher\u001b[0m\u001b[0;34m(\u001b[0m\u001b[0m_multiarray_umath\u001b[0m\u001b[0;34m.\u001b[0m\u001b[0mwhere\u001b[0m\u001b[0;34m)\u001b[0m\u001b[0;34m\u001b[0m\u001b[0;34m\u001b[0m\u001b[0m\n\u001b[0m\u001b[1;32m    347\u001b[0m \u001b[0;32mdef\u001b[0m \u001b[0mwhere\u001b[0m\u001b[0;34m(\u001b[0m\u001b[0mcondition\u001b[0m\u001b[0;34m,\u001b[0m \u001b[0mx\u001b[0m\u001b[0;34m=\u001b[0m\u001b[0;32mNone\u001b[0m\u001b[0;34m,\u001b[0m \u001b[0my\u001b[0m\u001b[0;34m=\u001b[0m\u001b[0;32mNone\u001b[0m\u001b[0;34m)\u001b[0m\u001b[0;34m:\u001b[0m\u001b[0;34m\u001b[0m\u001b[0;34m\u001b[0m\u001b[0m\n\u001b[1;32m    348\u001b[0m     \"\"\"\n",
            "\u001b[0;31mKeyboardInterrupt\u001b[0m: "
          ]
        },
        {
          "output_type": "stream",
          "name": "stderr",
          "text": [
            "Exception ignored in: 'sklearn.cluster._k_means_common._relocate_empty_clusters_dense'\n",
            "Traceback (most recent call last):\n",
            "  File \"/usr/local/lib/python3.10/dist-packages/numpy/core/multiarray.py\", line 346, in where\n",
            "    @array_function_from_c_func_and_dispatcher(_multiarray_umath.where)\n",
            "KeyboardInterrupt: \n"
          ]
        },
        {
          "output_type": "error",
          "ename": "KeyboardInterrupt",
          "evalue": "",
          "traceback": [
            "\u001b[0;31m---------------------------------------------------------------------------\u001b[0m",
            "\u001b[0;31mKeyboardInterrupt\u001b[0m                         Traceback (most recent call last)",
            "\u001b[0;32m/usr/local/lib/python3.10/dist-packages/numpy/core/multiarray.py\u001b[0m in \u001b[0;36mwhere\u001b[0;34m(condition, x, y)\u001b[0m\n\u001b[1;32m    344\u001b[0m \u001b[0;34m\u001b[0m\u001b[0m\n\u001b[1;32m    345\u001b[0m \u001b[0;34m\u001b[0m\u001b[0m\n\u001b[0;32m--> 346\u001b[0;31m \u001b[0;34m@\u001b[0m\u001b[0marray_function_from_c_func_and_dispatcher\u001b[0m\u001b[0;34m(\u001b[0m\u001b[0m_multiarray_umath\u001b[0m\u001b[0;34m.\u001b[0m\u001b[0mwhere\u001b[0m\u001b[0;34m)\u001b[0m\u001b[0;34m\u001b[0m\u001b[0;34m\u001b[0m\u001b[0m\n\u001b[0m\u001b[1;32m    347\u001b[0m \u001b[0;32mdef\u001b[0m \u001b[0mwhere\u001b[0m\u001b[0;34m(\u001b[0m\u001b[0mcondition\u001b[0m\u001b[0;34m,\u001b[0m \u001b[0mx\u001b[0m\u001b[0;34m=\u001b[0m\u001b[0;32mNone\u001b[0m\u001b[0;34m,\u001b[0m \u001b[0my\u001b[0m\u001b[0;34m=\u001b[0m\u001b[0;32mNone\u001b[0m\u001b[0;34m)\u001b[0m\u001b[0;34m:\u001b[0m\u001b[0;34m\u001b[0m\u001b[0;34m\u001b[0m\u001b[0m\n\u001b[1;32m    348\u001b[0m     \"\"\"\n",
            "\u001b[0;31mKeyboardInterrupt\u001b[0m: "
          ]
        },
        {
          "output_type": "stream",
          "name": "stderr",
          "text": [
            "Exception ignored in: 'sklearn.cluster._k_means_common._relocate_empty_clusters_dense'\n",
            "Traceback (most recent call last):\n",
            "  File \"/usr/local/lib/python3.10/dist-packages/numpy/core/multiarray.py\", line 346, in where\n",
            "    @array_function_from_c_func_and_dispatcher(_multiarray_umath.where)\n",
            "KeyboardInterrupt: \n"
          ]
        }
      ]
    },
    {
      "cell_type": "markdown",
      "source": [
        "Una vez realizado el clustering, obtenemos los ejemplos mas representativos para cada uno de los clusters ademas de sus respectivas etiquetas verdaderas."
      ],
      "metadata": {
        "id": "dE5k5OVfCucN"
      }
    },
    {
      "cell_type": "code",
      "source": [
        "idxs = np.argmin(X_digits_dist, axis=0)#calcula los indices de las distancias minimas para cada columna\n",
        "X_representative_digits = X_train.values[idxs]#devuleve las muestras mas representativas por cada columna"
      ],
      "metadata": {
        "id": "ZyMWJzHW1sQr"
      },
      "execution_count": null,
      "outputs": []
    },
    {
      "cell_type": "code",
      "source": [
        "representative_labels = kmeans.predict(X_representative_digits)\n",
        "print(representative_labels)#mostramos el numero de cluster correspondiente a cada ejemplo mas representativo"
      ],
      "metadata": {
        "colab": {
          "base_uri": "https://localhost:8080/"
        },
        "id": "RvAfNrShEx4T",
        "outputId": "c0f641cf-2f35-411d-9a13-1199be1fe883"
      },
      "execution_count": null,
      "outputs": [
        {
          "output_type": "stream",
          "name": "stdout",
          "text": [
            "[ 0  1  2  3  4  5  6  7  8  9 10 11 12 13 14 15 16 17 18 19 20 21 22 23\n",
            " 24 25 26 27 28 29 30 31 32 33 34 35 36 37 38 39 40 41 42 43 44 45 46 47\n",
            " 48 49 50 51 52 53 54 55 56 57 58 59 60 61 62 63 64 65 66 67 68 69 70 71\n",
            " 72 73 74 75 76 77 78 79 80 81 82 83 84 85 86 87 88 89 90 91 92 93 94 95\n",
            " 96 97 98 99]\n"
          ]
        },
        {
          "output_type": "stream",
          "name": "stderr",
          "text": [
            "/usr/local/lib/python3.10/dist-packages/sklearn/base.py:439: UserWarning: X does not have valid feature names, but KMeans was fitted with feature names\n",
            "  warnings.warn(\n"
          ]
        }
      ]
    },
    {
      "cell_type": "markdown",
      "source": [
        "Realizamos la clasificacion manual para esos ejemplos mas representativos"
      ],
      "metadata": {
        "id": "Vevof2g1F2ij"
      }
    },
    {
      "cell_type": "markdown",
      "source": [
        "\n",
        "\n",
        "Se realiza la etiquetacion manual\n"
      ],
      "metadata": {
        "id": "AL8ArrxLaFTf"
      }
    },
    {
      "cell_type": "code",
      "source": [
        "etiquetasAMano = [6,1,1,1,1,1,2,1,1,1,1,1,1,2,4,1,6,1,1,1,3,1,1,1,1,1,1,1,2,1,1,1,1,1,1,3,1,1,1,1,1,1,1,6,7,2,1,3,1,1]#aca se realiza la la clasificacion manual en base a los grupos optimos\n",
        "y_representative_digits = np.array(etiquetasAMano)#se reemplaza las etiquetas\n",
        "print(etiquetasAMano)"
      ],
      "metadata": {
        "colab": {
          "base_uri": "https://localhost:8080/"
        },
        "id": "L5puNinnZh-W",
        "outputId": "fd3d988e-0a01-49ed-a5db-580ac594c9ef"
      },
      "execution_count": null,
      "outputs": [
        {
          "output_type": "stream",
          "name": "stdout",
          "text": [
            "[6, 1, 1, 1, 1, 1, 2, 1, 1, 1, 1, 1, 1, 2, 4, 1, 10, 1, 1, 1, 3, 1, 1, 1, 1, 1, 1, 1, 2, 1, 1, 1, 1, 1, 1, 3, 1, 1, 1, 1, 1, 1, 1, 7, 9, 2, 1, 3, 1, 1]\n"
          ]
        }
      ]
    },
    {
      "cell_type": "markdown",
      "source": [
        "Segun las etiquetas mas representativas ya clasificadas manualmente hacemos una proparagacion en base a su etiqueta a todos los demas ejemplos de sus clusters."
      ],
      "metadata": {
        "id": "xoUWBOXLEepg"
      }
    },
    {
      "cell_type": "code",
      "source": [
        "y_train_propagated = np.empty(len(X_train))\n",
        "for i in range(k):\n",
        "  y_train_propagated[kmeans.labels_==i] = y_representative_digits[i]#se asigna la etiqueta representativa a todas las muestras que pertenecen al cluster i"
      ],
      "metadata": {
        "id": "8ni72oJt2y8_"
      },
      "execution_count": null,
      "outputs": []
    },
    {
      "cell_type": "markdown",
      "source": [
        "##Aprendizaje Activo"
      ],
      "metadata": {
        "id": "TmnqnXZxnuYV"
      }
    },
    {
      "cell_type": "markdown",
      "source": [
        "Identificamos las muestras con las que el modelo tiene más dificultades para clasificar correctamente"
      ],
      "metadata": {
        "id": "wYoIlDQlIeci"
      }
    },
    {
      "cell_type": "code",
      "source": [
        "from sklearn.linear_model import LogisticRegression\n",
        "log_reg3 = LogisticRegression(multi_class=\"ovr\", solver=\"lbfgs\", max_iter=5000, random_state=42)#crea un modelo de regresion logistica con one vs all\n",
        "probas = log_reg3.predict_proba(X_train)#se obtienen las probabilidades de que las muestras que pertenezcan a cada clase posible\n",
        "labels_ixs = np.argmax(probas, axis=1)#obtiene el indice de la probabilidad maxima (la clase mas probable) por cada muestra\n",
        "labels = np.array([proba[ix] for proba, ix in zip(probas, labels_ixs)])#se obtiene la probabilidad maxima de cada muestra\n",
        "sorted_ixs = np.argsort(labels) #se ordenan los indices de las muestras por sus probabilidades en orden ascendente(las primeras seran las entradas con menores probabilidades maximas)\n",
        "labels[sorted_ixs[:10]]#se muestran las 10 muestras con las menores probabilidades maximas"
      ],
      "metadata": {
        "colab": {
          "base_uri": "https://localhost:8080/"
        },
        "id": "xagecuEu3Pne",
        "outputId": "520d337f-e12c-4ea1-ec4c-80362167f40b"
      },
      "execution_count": null,
      "outputs": [
        {
          "output_type": "execute_result",
          "data": {
            "text/plain": [
              "array([0.26656379, 0.26738366, 0.27291329, 0.28879708, 0.29177325,\n",
              "       0.29836316, 0.29901443, 0.30027288, 0.30085524, 0.30252013])"
            ]
          },
          "metadata": {},
          "execution_count": 120
        }
      ]
    },
    {
      "cell_type": "code",
      "source": [
        "y_lowest = y_train.values[:][sorted_ixs[:k]] #aca se tendria que clasificar manualmente de nuevo\n",
        "y_lowest"
      ],
      "metadata": {
        "colab": {
          "base_uri": "https://localhost:8080/"
        },
        "id": "-hW3Sp8X3Vzv",
        "outputId": "680eb774-7d5c-44a2-f5c6-b796b690f2c8"
      },
      "execution_count": null,
      "outputs": [
        {
          "output_type": "execute_result",
          "data": {
            "text/plain": [
              "array([4, 3, 4, 4, 4, 1, 3, 4, 4, 4, 4, 4, 3, 4, 4, 1, 5, 1, 2, 1, 5, 1,\n",
              "       3, 2, 3, 4, 3, 0, 2, 4, 3, 1, 1, 4, 2, 1, 3, 3, 2, 3, 3, 1, 2, 4,\n",
              "       4, 5, 3, 0, 3, 3, 2, 4, 1, 0, 3, 4, 1, 3, 2, 1, 2, 3, 1, 4, 3, 1,\n",
              "       3, 2, 3, 2, 2, 2, 3, 2, 2, 2, 1, 2, 2, 2, 0, 3, 3, 1, 4, 0, 2, 4,\n",
              "       1, 1, 3, 2, 2, 3, 1, 4, 3, 2, 1, 3])"
            ]
          },
          "metadata": {},
          "execution_count": 121
        }
      ]
    },
    {
      "cell_type": "code",
      "source": [
        "y_train2 = y_train_propagated.copy()#copia las filas de las 'y' propagadas\n",
        "y_train2[sorted_ixs[:k]] = y_lowest#reeemplaza las etquetas manualmente clasificadas en la anterior celda"
      ],
      "metadata": {
        "id": "--GW1V5J3brk"
      },
      "execution_count": null,
      "outputs": []
    },
    {
      "cell_type": "code",
      "source": [
        "#entrenamos el ultimo modelo con las Y que ya pasaron por todo el proceso de aprendizaje semi-supervizado y activo\n",
        "#se entrena con las etiquetas ya completamente procesadas\n",
        "log_reg5 = LogisticRegression(multi_class=\"ovr\", solver=\"lbfgs\", max_iter=5000, random_state=42)\n",
        "%time log_reg5.fit(X_train, y_train2)\n",
        "#log_reg5.score(X_test, y_test)"
      ],
      "metadata": {
        "colab": {
          "base_uri": "https://localhost:8080/"
        },
        "id": "3RVBjuLC3gYf",
        "outputId": "2effd999-7e57-4965-8cf6-12b5611d99a5"
      },
      "execution_count": null,
      "outputs": [
        {
          "output_type": "stream",
          "name": "stdout",
          "text": [
            "CPU times: user 17.1 s, sys: 8.79 s, total: 25.9 s\n",
            "Wall time: 16.1 s\n"
          ]
        },
        {
          "output_type": "execute_result",
          "data": {
            "text/plain": [
              "0.5538040260509177"
            ]
          },
          "metadata": {},
          "execution_count": 123
        }
      ]
    }
  ],
  "metadata": {
    "kernelspec": {
      "display_name": "Python 3.8.12 ('base')",
      "language": "python",
      "name": "python3"
    },
    "language_info": {
      "codemirror_mode": {
        "name": "ipython",
        "version": 3
      },
      "file_extension": ".py",
      "mimetype": "text/x-python",
      "name": "python",
      "nbconvert_exporter": "python",
      "pygments_lexer": "ipython3",
      "version": "3.8.10"
    },
    "orig_nbformat": 4,
    "vscode": {
      "interpreter": {
        "hash": "74dbfc52f168b3071122cf9c0781887d6121c12f9c1b29bca56ce221bccb2a07"
      }
    },
    "colab": {
      "provenance": []
    }
  },
  "nbformat": 4,
  "nbformat_minor": 0
}